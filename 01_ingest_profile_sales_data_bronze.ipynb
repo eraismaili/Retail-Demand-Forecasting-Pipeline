{
 "cells": [
  {
   "cell_type": "code",
   "execution_count": 0,
   "metadata": {
    "application/vnd.databricks.v1+cell": {
     "cellMetadata": {
      "byteLimit": 2048000,
      "rowLimit": 10000
     },
     "inputWidgets": {},
     "nuid": "a88f9644-ef96-4c17-a5a9-f3d4005ee0a0",
     "showTitle": false,
     "tableResultSettingsMap": {},
     "title": ""
    }
   },
   "outputs": [],
   "source": [
    "from datetime import date, timedelta\n",
    "import pandas as pd\n",
    "import numpy as np\n",
    "import random\n",
    "import os\n",
    "\n",
    "output_dir = \"/tmp/raw_data\"\n",
    "os.makedirs(output_dir, exist_ok=True)\n",
    "\n",
    "np.random.seed(42)\n",
    "random.seed(42)\n",
    "\n",
    "def generate_mock_data(start_date, days=180, items=50):\n",
    "    data = []\n",
    "    for item_id in range(1, items + 1):\n",
    "        for day in range(days):\n",
    "            current_date = start_date + timedelta(days=day)\n",
    "            sales = np.random.poisson(20)\n",
    "            price = round(random.uniform(5, 20), 2)\n",
    "            promo = random.choice([0, 1])\n",
    "            holiday = 1 if current_date.weekday() >= 5 else 0  \n",
    "            data.append([item_id, current_date.strftime('%Y-%m-%d'), sales, price, promo, holiday])\n",
    "    return pd.DataFrame(data, columns=[\"item_id\", \"date\", \"sales\", \"price\", \"promotion\", \"holiday\"])\n",
    "\n",
    "df = generate_mock_data(date(2024, 1, 1), days=180, items=50)\n",
    "df.to_csv(f\"{output_dir}/sales.csv\", index=False)\n",
    "\n",
    "print(f\"Mock data saved to: {output_dir}/sales.csv\")\n"
   ]
  }
 ],
 "metadata": {
  "application/vnd.databricks.v1+notebook": {
   "computePreferences": null,
   "dashboards": [],
   "environmentMetadata": {
    "base_environment": "",
    "environment_version": "2"
   },
   "inputWidgetPreferences": null,
   "language": "python",
   "notebookMetadata": {
    "pythonIndentUnit": 4
   },
   "notebookName": "01_ingest_profile_sales_data_bronze",
   "widgets": {}
  },
  "language_info": {
   "name": "python"
  }
 },
 "nbformat": 4,
 "nbformat_minor": 0
}
