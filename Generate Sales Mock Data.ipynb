{
 "cells": [
  {
   "cell_type": "code",
   "execution_count": 0,
   "metadata": {
    "application/vnd.databricks.v1+cell": {
     "cellMetadata": {
      "byteLimit": 2048000,
      "rowLimit": 10000
     },
     "inputWidgets": {},
     "nuid": "450c6ff5-efe8-449c-bbfe-fa131d3dad4a",
     "showTitle": false,
     "tableResultSettingsMap": {},
     "title": ""
    }
   },
   "outputs": [],
   "source": [
    "from datetime import date, timedelta\n",
    "import pandas as pd\n",
    "import numpy as np\n",
    "import random\n",
    "import os\n",
    "\n",
    "\n",
    "output_dir = \"/tmp/raw_data\"\n",
    "os.makedirs(output_dir, exist_ok=True)\n",
    "\n",
    "\n",
    "def generate_mock_data():\n",
    "    data = []\n",
    "    start_date = date(2024, 1, 1)\n",
    "    for item_id in range(1, 6):  # vetëm 5 artikuj për shembull\n",
    "        for day in range(10):   # vetëm 10 ditë\n",
    "            current_date = start_date + timedelta(days=day)\n",
    "            sales = np.random.poisson(20)\n",
    "            price = round(random.uniform(5, 20), 2)\n",
    "            promo = random.choice([0, 1])\n",
    "            holiday = 1 if current_date.weekday() >= 5 else 0\n",
    "            data.append([item_id, current_date, sales, price, promo, holiday])\n",
    "    return pd.DataFrame(data, columns=[\"item_id\", \"date\", \"sales\", \"price\", \"promotion\", \"holiday\"])\n",
    "\n",
    "\n",
    "df = generate_mock_data()\n",
    "df.to_csv(f\"{output_dir}/sales.csv\", index=False)\n",
    "\n",
    "print(\" Mock data saved to: /tmp/raw_data/sales.csv\")\n"
   ]
  }
 ],
 "metadata": {
  "application/vnd.databricks.v1+notebook": {
   "computePreferences": null,
   "dashboards": [],
   "environmentMetadata": {
    "base_environment": "",
    "environment_version": "2"
   },
   "inputWidgetPreferences": null,
   "language": "python",
   "notebookMetadata": {
    "pythonIndentUnit": 4
   },
   "notebookName": "Generate Sales Mock Data",
   "widgets": {}
  },
  "language_info": {
   "name": "python"
  }
 },
 "nbformat": 4,
 "nbformat_minor": 0
}
